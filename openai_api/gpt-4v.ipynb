{
 "cells": [
  {
   "cell_type": "markdown",
   "id": "b4b6a552-b7f0-433d-9a70-61c4fcc52d5d",
   "metadata": {},
   "source": [
    "# 快速入门 GPT-4 Vison\n",
    "\n",
    "从历史上看，语言模型系统仅接受**文本**作为输入。但是单一的输入形式，限制了大模型的应用落地范围。\n",
    "\n",
    "随着技术发展，OpenAI 开发的 GPT-4 Turbo with Vision（简称 GPT-4V）允许模型接收**图像**作为输入，并回答关于它们的问题。\n",
    "\n",
    "📢注意，目前在 Assistants API 中使用 GPT-4 时还不支持图像输入。"
   ]
  },
  {
   "cell_type": "markdown",
   "id": "3a701c56-0a2a-4dea-b458-234150b84ff2",
   "metadata": {},
   "source": [
    "## 使用 GPT-4V 识别线上图像（URL）\n",
    "\n",
    "![image_sample](https://upload.wikimedia.org/wikipedia/commons/thumb/d/dd/Gfp-wisconsin-madison-the-nature-boardwalk.jpg/2560px-Gfp-wisconsin-madison-the-nature-boardwalk.jpg)"
   ]
  },
  {
   "cell_type": "code",
   "execution_count": 1,
   "id": "bf8689b2-94f2-4a35-a332-9ffed0a56aca",
   "metadata": {},
   "outputs": [
    {
     "name": "stdout",
     "output_type": "stream",
     "text": [
      "Choice(finish_reason='stop', index=0, logprobs=None, message=ChatCompletionMessage(content='这幅图展示了一条位于郁郁葱葱的草地上的木栈道。栈道直通向远方，引人遐想。四周长满了绿草和不同高度的灌木，远处可以看到一些树木。天空广阔，蓝天中散布着几朵白云，为整个场景增添了和平与宁静的感觉。图片的色彩饱和度高，呈现出一种生机勃勃和清新自然的氛围。整体上，这是一幅展现自然美景和夏日氛围的图像。', role='assistant', function_call=None, tool_calls=None))\n"
     ]
    }
   ],
   "source": [
    "from openai import OpenAI\n",
    "\n",
    "client = OpenAI(# 中转Key或者直连Key\n",
    "    api_key='sk-EMA9xdeuT3krvtvE558e351d65704aB9A28b350b5dC6A78b',         \n",
    "    # 代理地址，填写商家中转站或自建OpenAI代理\n",
    "    base_url='https://api.xiaoai.plus/v1')\n",
    "\n",
    "response = client.chat.completions.create(\n",
    "  model=\"gpt-4-turbo\",\n",
    "  messages=[\n",
    "    {\n",
    "      \"role\": \"user\",\n",
    "      \"content\": [\n",
    "        {\"type\": \"text\", \"text\": \"介绍下这幅图?\"},\n",
    "        {\n",
    "          \"type\": \"image_url\",\n",
    "          \"image_url\": {\n",
    "            \"url\": \"https://upload.wikimedia.org/wikipedia/commons/thumb/d/dd/Gfp-wisconsin-madison-the-nature-boardwalk.jpg/2560px-Gfp-wisconsin-madison-the-nature-boardwalk.jpg\",\n",
    "          },\n",
    "        },\n",
    "      ],\n",
    "    }\n",
    "  ],\n",
    "  max_tokens=300,\n",
    ")\n",
    "\n",
    "print(response.choices[0])"
   ]
  },
  {
   "cell_type": "code",
   "execution_count": 2,
   "id": "9bcc9026-7485-428f-8269-ea9ae41405cb",
   "metadata": {},
   "outputs": [
    {
     "data": {
      "text/plain": [
       "'这幅图呈现了一个宁静美丽的自然景观。图中的主要特点是一条木制的栈道，它穿越在郁郁葱葱的草地上，引向远处看不到的终点。草地上覆盖着茂密的绿色植被，显示出生机勃勃的春夏季节。背景中天空呈现出澄清的蓝色，点缀着几朵轻盈的白云，增添了一种宁静和平和的氛围。\\n\\n整个场景光线充足，阳光和蓝天与绿色植被的对比令人感觉清新愉快。这样的环境可能是理想的徒步旅行地点，提供了亲近自然和放松心情的完美机会。整体上，这幅图传达了大自然的宁静与和谐，是观赏和体验自然美景的一种'"
      ]
     },
     "execution_count": 2,
     "metadata": {},
     "output_type": "execute_result"
    }
   ],
   "source": [
    "response.choices[0].message.content"
   ]
  },
  {
   "cell_type": "markdown",
   "id": "7fb50a14-fa14-4c63-9f81-b98b0f65d9d9",
   "metadata": {},
   "source": [
    "### 封装成一个函数 query_image_description"
   ]
  },
  {
   "cell_type": "code",
   "execution_count": 9,
   "id": "c1ca5428-c7e1-4d7e-91f1-d4a05e95ac51",
   "metadata": {},
   "outputs": [],
   "source": [
    "def query_image_description(url, prompt=\"介绍下这幅图?\"):\n",
    "    client = OpenAI(# 中转Key或者直连Key\n",
    "    api_key='sk-EMA9xdeuT3krvtvE558e351d65704aB9A28b350b5dC6A78b',         \n",
    "    # 代理地址，填写商家中转站或自建OpenAI代理\n",
    "    base_url='https://api.xiaoai.plus/v1')  # 初始化 OpenAI 客户端\n",
    "    \n",
    "    # 发送请求给 OpenAI 的聊天模型\n",
    "    response = client.chat.completions.create(\n",
    "        model=\"gpt-4-turbo\",  # 指定使用的模型\n",
    "        messages=[\n",
    "            {\n",
    "                \"role\": \"user\",\n",
    "                \"content\": [\n",
    "                    {\"type\": \"text\", \"text\": prompt},\n",
    "                    {\"type\": \"image_url\", \"image_url\": {\"url\": url}},\n",
    "                ],\n",
    "            }\n",
    "        ],\n",
    "        max_tokens=300,\n",
    "    )\n",
    "    \n",
    "    # 返回模型的响应\n",
    "    return response.choices[0].message.content\n"
   ]
  },
  {
   "cell_type": "markdown",
   "id": "a0d0aceb-7cc5-4da1-b6db-e47716ba145a",
   "metadata": {},
   "source": [
    "### 调用函数测试\n",
    "\n",
    "![meme_0](https://p6.itc.cn/q_70/images03/20200602/0c267a0d3d814c9783659eb956969ba1.jpeg)"
   ]
  },
  {
   "cell_type": "code",
   "execution_count": 11,
   "id": "454abb5c-49d3-42e6-867e-f44e25af5e0e",
   "metadata": {},
   "outputs": [
    {
     "name": "stdout",
     "output_type": "stream",
     "text": [
      "这张图是一张幽默图片，展示了两只不同状态的狗，进行对比，以此来表达当人们年龄相差并不大时因为生活方式和习惯不同而可能导致的巨大差异。左边的狗被描绘得像是一个肌肉非常发达的人型，看起来非常强壮和壮观。右边的狗则显得普通，稍显肥胖和慵懒。\n",
      "\n",
      "图片上方的文本“16岁的狗”和“1代后勤狗”可能意指这是同一时间出生的狗，但生活环境和照顾方式不同造成了它们巨大的身体差异。左边的狗下方的文字解释了它的生活方式：“我周遭一片光明，意志坚定，若米饭荒哪，人力车的力大属我，旗帜的风向归我。” 这段话似乎在描述这只\n"
     ]
    }
   ],
   "source": [
    "image_url = \"https://p6.itc.cn/q_70/images03/20200602/0c267a0d3d814c9783659eb956969ba1.jpeg\"\n",
    "content = query_image_description(image_url,prompt='解释一下这张图，并解释文本')\n",
    "print(content)"
   ]
  },
  {
   "cell_type": "code",
   "execution_count": null,
   "id": "2471306a-84e2-4793-b065-0741fbe57262",
   "metadata": {},
   "outputs": [],
   "source": []
  },
  {
   "cell_type": "code",
   "execution_count": 4,
   "id": "af79850f-83b5-49c4-a3f3-f2c01a28f458",
   "metadata": {},
   "outputs": [
    {
     "name": "stdout",
     "output_type": "stream",
     "text": [
      "Looking in indexes: https://pypi.tuna.tsinghua.edu.cn/simple\n",
      "Collecting markdown\n",
      "  Downloading https://pypi.tuna.tsinghua.edu.cn/packages/fc/b3/0c0c994fe49cd661084f8d5dc06562af53818cc0abefaca35bdc894577c3/Markdown-3.6-py3-none-any.whl (105 kB)\n",
      "     ---------------------------------------- 0.0/105.4 kB ? eta -:--:--\n",
      "     ---------------------- ---------------- 61.4/105.4 kB 1.7 MB/s eta 0:00:01\n",
      "     ------------------------------------ - 102.4/105.4 kB 1.5 MB/s eta 0:00:01\n",
      "     -------------------------------------- 105.4/105.4 kB 1.0 MB/s eta 0:00:00\n",
      "Installing collected packages: markdown\n",
      "Successfully installed markdown-3.6\n",
      "Note: you may need to restart the kernel to use updated packages.\n"
     ]
    }
   ],
   "source": [
    "pip install markdown"
   ]
  },
  {
   "cell_type": "markdown",
   "id": "63ae05bd-872c-4638-8259-df4f420aaa1d",
   "metadata": {},
   "source": [
    "### 使用 GPT-4V 识别本地图像文件（Base64编码）\n"
   ]
  },
  {
   "cell_type": "code",
   "execution_count": 11,
   "id": "1e83da68-d387-46da-8236-78fc607d1fab",
   "metadata": {},
   "outputs": [],
   "source": [
    "from openai import OpenAI\n",
    "import base64\n",
    "import requests\n",
    "import json\n",
    "from IPython.display import display, Markdown\n",
    "\n",
    "client = OpenAI(# 中转Key或者直连Key\n",
    "    api_key='sk-EMA9xdeuT3krvtvE558e351d65704aB9A28b350b5dC6A78b',         \n",
    "    # 代理地址，填写商家中转站或自建OpenAI代理\n",
    "    base_url='https://api.xiaoai.plus/v1')  # 初始化 OpenAI 客户端\n",
    "\n",
    "def query_base64_image_description(image_path, prompt=\"解释下图里的内容?\", max_tokens=1000):\n",
    "\n",
    "    # 实现 Base64 编码\n",
    "    def encode_image(path):\n",
    "        with open(path, \"rb\") as image_file:\n",
    "            return base64.b64encode(image_file.read()).decode('utf-8')\n",
    "\n",
    "    # 获取图像的 Base64 编码字符串\n",
    "    base64_image = encode_image(image_path)\n",
    "\n",
    "    # 构造请求的 HTTP Header\n",
    "    headers = {\n",
    "        \"Content-Type\": \"application/json\",\n",
    "        \"Authorization\": f\"Bearer {client.api_key}\"\n",
    "    }\n",
    "\n",
    "    # 构造请求的负载\n",
    "    payload = {\n",
    "        \"model\": \"gpt-4-turbo\",\n",
    "        \"messages\": [\n",
    "            {\n",
    "                \"role\": \"user\",\n",
    "                \"content\": [\n",
    "                    {\"type\": \"text\", \"text\": prompt},\n",
    "                    {\"type\": \"image_url\", \"image_url\": {\"url\": f\"data:image/jpeg;base64,{base64_image}\"}}\n",
    "                ]\n",
    "            }\n",
    "        ],\n",
    "        \"max_tokens\": max_tokens\n",
    "    }\n",
    "\n",
    "    # 发送 HTTP 请求\n",
    "    response = requests.post(\"https://api.xiaoai.plus/v1/chat/completions\", headers=headers, json=payload)\n",
    "\n",
    "    # 检查响应并提取所需的 content 字段\n",
    "    if response.status_code == 200:\n",
    "        response_data = response.json()\n",
    "        content = response_data['choices'][0]['message']['content']\n",
    "        return display(Markdown(content))\n",
    "    else:\n",
    "        return f\"Error: {response.status_code}, {response.text}\""
   ]
  },
  {
   "cell_type": "markdown",
   "id": "89dd0f99-8086-473f-80a4-497e6dd07c17",
   "metadata": {},
   "source": [
    "#### 使用 Assistants API生成的 GDP 40年对比曲线图\n",
    "\n",
    "![gdp_data](./images/gdp_1980_2020.jpg)"
   ]
  },
  {
   "cell_type": "code",
   "execution_count": 9,
   "id": "3c0e9063-e8d9-4bc1-ae60-ad0aa5bee32b",
   "metadata": {},
   "outputs": [
    {
     "data": {
      "text/markdown": [
       "图中展示了1980年到2020年间美国、中国、日本和德国的国内生产总值（GDP）比较。横轴表示年份，纵轴表示GDP（以万亿美元计）。不同颜色的线代表不同国家：\n",
       "\n",
       "- **蓝色线**：美国\n",
       "- **红色线**：中国\n",
       "- **紫色线**：日本\n",
       "- **绿色线**：德国\n",
       "\n",
       "从图中可以看出以下几点：\n",
       "\n",
       "1. **美国**的GDP持续领先，且呈稳定增长态势。\n",
       "2. **中国**的GDP从1990年代后期开始显著增长，特别是进入2000年后增长更加迅速，接近美国的GDP水平。\n",
       "3. **日本**的GDP在1990年代初期达到高峰后，波动较大，但总体趋于平稳。\n",
       "4. **德国**的GDP增长较为缓慢，整体上呈轻微上升趋势。\n",
       "\n",
       "这张图很好地反映了过去四十年这四个国家经济增长的轨迹和比较。\n",
       "\n",
       "```markdown\n",
       "以下为GDP数据的简化版表格：\n",
       "\n",
       "| 年份 | 美国(GDP万亿美元) | 中国(GDP万亿美元) | 日本(GDP万亿美元) | 德国(GDP万亿美元) |\n",
       "|------|-----------------|-----------------|-----------------|-----------------|\n",
       "| 1980 | 2.86            | 0.31            | 1.11            | 0.95            |\n",
       "| 1990 | 5.98            | 0.36            | 3.12            | 1.71            |\n",
       "| 2000 | 10.25           | 1.21            | 4.87            | 1.94            |\n",
       "| 2010 | 14.96           | 5.11            | 5.70            | 3.42            |\n",
       "| 2020 | 21.43           | 14.34           | 5.08            | 3.84            |\n",
       "\n",
       "数据源自图表展示。\n",
       "```"
      ],
      "text/plain": [
       "<IPython.core.display.Markdown object>"
      ]
     },
     "metadata": {},
     "output_type": "display_data"
    },
    {
     "name": "stdout",
     "output_type": "stream",
     "text": [
      "None\n"
     ]
    }
   ],
   "source": [
    "content = query_base64_image_description(\"./images/gdp_1980_2020.jpg\")\n",
    "print(content)"
   ]
  },
  {
   "cell_type": "markdown",
   "id": "6d18b227-32a6-4450-86bd-c99ad5c533b9",
   "metadata": {},
   "source": [
    "#### 使用 GPT-4V 识别手写体笔记\n",
    "\n",
    "![](./images/handwriting_0.jpg)"
   ]
  },
  {
   "cell_type": "code",
   "execution_count": 20,
   "id": "4193fa11-5edd-404c-9472-0cb8cc6799fc",
   "metadata": {},
   "outputs": [
    {
     "name": "stdout",
     "output_type": "stream",
     "text": [
      "这张图片是一张笔记本的照片，内容主要介绍了几种针对深度学习模型的参数调整技术，特别是在使用transformer架构的NLP模型中。笔记内容如下：\n",
      "\n",
      "1. **Prompt Tuning（简模型调整）** - 这是一种减少模型参数修改的技术，通过在模型的输入部分（通常是embedding层）添加一些特定的“提示”（提示是一组特定词汇或语句），从而引导模型生成特定的输出。这里有两种提示的示例，第一种是简单的连续输入X，第二种则是前缀调整，通过改变W值来影响变换输出Y。\n",
      "\n",
      "2. **LoRA（Low-Rank Adaptation, 低秩适应）** - 提到了一种新的参数适应方法，通过对模型中的权重矩阵W进行小规模的修改（ΔW），来调整模型的行为，而不需要重新训练整个模型。这种技术可以通过矩阵分解来实现ΔW的计算，以减少所需的额外参数数量，从而减少内存使用和计算成本。\n",
      "\n",
      "3. **内存使用对比** - 笔记最后提到了使用LoRA技术相比标凈LoRA技术的内存消耗比较，例如LLaMa-653B模型使用LoRA需要78GB, 而QLoRA只需要48GB。\n",
      "\n",
      "这张笔记非常适合对深度学习，尤其是NLP领域中的模型调整方法有兴趣的读者。它涉及了一些高级的概念和技术，可用于优化模型的性能和效率。\n"
     ]
    }
   ],
   "source": [
    "content = query_base64_image_description(\"./images/handwriting_0.jpg\")\n",
    "print(content)"
   ]
  },
  {
   "cell_type": "markdown",
   "id": "ca046601-018c-455c-ace2-41392cbda456",
   "metadata": {},
   "source": [
    "#### 在 Jupyter 标准输出中渲染 Markdown 格式内容"
   ]
  },
  {
   "cell_type": "code",
   "execution_count": 6,
   "id": "516ee35b-1337-4b22-aea2-ee0adb706098",
   "metadata": {},
   "outputs": [
    {
     "data": {
      "text/markdown": [
       "这是一张笔记本的照片，记录了关于机器学习、尤其是自然语言处理（NLP）中的不同技术和方法的笔记。这些笔记包括了多种模型调整方法和参考信息。\n",
       "\n",
       "### 左侧部分内容概览：\n",
       "- **半监督学习** 和 **弱监督学习** 的提及。\n",
       "- 提到了 **转换器（Transformers）** 模型。\n",
       "- **PEFT 和 SOTA （State of the Art）** - 提及了性能基准和方法。\n",
       "- **PEFT 方法细节**\n",
       "  - **Prompt Tuning**: 模型微调技术，用于调整模型以更好地应对特定任务。\n",
       "  - **Adapter（2019, Google）**, **Prefix（2021, Stanford）**, **Prompt（2021, Google）** 等具体技术。\n",
       "  - 提到了多个基于指令的调整技术和具体引用，如 **LAIAN（2021.09）**,\n",
       "    **BLOOM**, **ChatGLM**, **Alpaca**.\n",
       "\n",
       "### 右侧部分内容概览：\n",
       "- 讨论了 **多模态说明特征抽取（multi-modality instruction feature extraction）** 和 **LLMs（Large Language Models）**.\n",
       "- **New** 方法中包括 **LORA**, **GLORA**, **AdapterA**, **PETC (2022)** 和 **Ig3**.\n",
       "- **Refine in LLMs**:\n",
       "  - 涉及到改良LLM的具体技术，如通过项目加强（Project down）和积极提升（Project up）。\n",
       "- **MAM Adapters**:\n",
       "  - **Scaled parallel adapter**, **IFN adapter** 等方法，强调通过结构改良提升模型性能。\n",
       "\n",
       "这些笔记显示了一个正在学习或研究机器学习和自然语言处理领域的革新技术的人。注意到，该笔记包含多个先进的模型微调和性能提升技术，适合用于深层次的技术研究或实际应用优化。"
      ],
      "text/plain": [
       "<IPython.core.display.Markdown object>"
      ]
     },
     "metadata": {},
     "output_type": "display_data"
    }
   ],
   "source": [
    "from IPython.display import display, Markdown\n",
    "\n",
    "# 使用 display 和 Markdown 函数显示 Markdown 内容\n",
    "display(Markdown(content))"
   ]
  },
  {
   "cell_type": "markdown",
   "id": "b72ebbe3-87cc-4867-9cf0-62e5ed684482",
   "metadata": {},
   "source": [
    "![](./images/handwriting_1.jpg)"
   ]
  },
  {
   "cell_type": "code",
   "execution_count": 7,
   "id": "7c046958-aa7a-4066-88fa-4134869d9226",
   "metadata": {
    "scrolled": true
   },
   "outputs": [
    {
     "data": {
      "text/markdown": [
       "这张图片显示的是一个笔记本上用手写记录的内容，主要涉及机器学习和自然语言处理（NLP）中的一些技术和方法。内容主要用中文和英文混合编写，看起来像是在做学术研究或学习的笔记。\n",
       "\n",
       "### 左侧内容包括：\n",
       "1. **模型类别和评测**\n",
       "   - 数据模型：提到了`Transformer`模型及其相关评测（Benchmark）和方法（如PEFT，PBFT，响应式FT等）。\n",
       "   - **PEFT** 与 **SOTA (State of the Art)** 和 **PBFT Methods**。\n",
       "\n",
       "2. **PEFT 细分介绍**\n",
       "   - 涉及到Prompt Tuning（提示调整），包括Adapter（2019, Google）、Prefix（2021, Stanford）、及其他相关技术如Prompt（2021, Google）、P-Tuning V1/V2等。\n",
       "   - 提及了**指令调优**（Instruction tuning）、**FT LLMs**（Fine-tuning Large Language Models）等。\n",
       "\n",
       "3. **其他技术和模型**\n",
       "   - 提到了一些具体的模型如**Liang et al., 2019**、**GPT**, **XLHF**, **LLM**, **BLOOM**, **Alpaca**, **MOSS**。\n",
       "\n",
       "### 右侧内容包括：\n",
       "1. **多模态及新技术**\n",
       "   - 讨论到**multi-modality** Instruction FT LLMs，如 **LLaMA (13B)**。\n",
       "   - 新技术如**LoRA**，**GLoRA**，**Adalora**。\n",
       "\n",
       "2. **技术的扩展与应用**\n",
       "   - **Prefix-tuning & Adapters**的进一步应用和技术细分。\n",
       "\n",
       "通过以上笔记内容，可以看出此人可能在研究或学习有关自然语言处理的高级技术和方法，特别是与**语言模型微调**和**适应器模式**相关的内容。"
      ],
      "text/plain": [
       "<IPython.core.display.Markdown object>"
      ]
     },
     "metadata": {},
     "output_type": "display_data"
    }
   ],
   "source": [
    "content = query_base64_image_description(\"./images/handwriting_1.jpg\")\n",
    "display(Markdown(content))"
   ]
  },
  {
   "cell_type": "code",
   "execution_count": null,
   "id": "156a0f17-cca8-4f01-9ce5-53384b5ffda4",
   "metadata": {},
   "outputs": [],
   "source": []
  },
  {
   "cell_type": "code",
   "execution_count": null,
   "id": "e3bd772f-9492-4f6c-b05a-666b772ca3c9",
   "metadata": {},
   "outputs": [],
   "source": []
  },
  {
   "cell_type": "code",
   "execution_count": null,
   "id": "8afdeacb-aac1-4692-be2b-fb7957ba5e8f",
   "metadata": {},
   "outputs": [],
   "source": []
  },
  {
   "cell_type": "markdown",
   "id": "79a8d459-d98e-4215-9fbf-38ad37080475",
   "metadata": {},
   "source": [
    "## Homework: \n",
    "\n",
    "\n",
    "### #1\n",
    "\n",
    "使用 GPT-4V 识别带有手写体文字的本地图像文件，分享结果。\n",
    "\n",
    "### #2\n",
    "\n",
    "整合 `query_base64_image_description` 函数和 Markdown 格式渲染方法，使得输出结果更易阅读。"
   ]
  },
  {
   "cell_type": "code",
   "execution_count": null,
   "id": "0909bf27-9c4a-498c-9fae-0f442062b9a8",
   "metadata": {},
   "outputs": [],
   "source": []
  }
 ],
 "metadata": {
  "kernelspec": {
   "display_name": "Python 3 (ipykernel)",
   "language": "python",
   "name": "python3"
  },
  "language_info": {
   "codemirror_mode": {
    "name": "ipython",
    "version": 3
   },
   "file_extension": ".py",
   "mimetype": "text/x-python",
   "name": "python",
   "nbconvert_exporter": "python",
   "pygments_lexer": "ipython3",
   "version": "3.10.14"
  }
 },
 "nbformat": 4,
 "nbformat_minor": 5
}
